{
 "cells": [
  {
   "cell_type": "markdown",
   "id": "331a1c4f",
   "metadata": {},
   "source": [
    "# Call Center Cleanup\n",
    "\n",
    "For this assignment, we will be working with call center data. You can start working on the assignment after the first lesson on Exploratory Data Analysis with pandas. Make sure to read the whole assignment before starting anything! As you code along in the Jupyter notebook, you are asked to make note of the results of your analysis. Do so by clicking on the results box and adding your notes beside each question.\n",
    "\n",
    "## Business Issue and Understanding\n",
    "\n",
    "You are working for a company that has two call centers: the North Call Center and the South Call Center. The company is looking to possibly hire five additional reps to enhance customer experience. Your task is to explore how efficient the current reps are in each branch to determine which branch would benefit from additional assistance.\n",
    "\n",
    "### How the Call Center Works\n",
    "\n",
    "Call center representatives are assigned queues. When calls are assigned to a queue, the call is assigned to the next person in line in the queue. After a call is assigned to a representative, the amount of time between assignment and the call starting is divided into busy minutes and not ready minutes. If the call is incoming and a customer is waiting on the phone for a rep, the time is split into three categories: busy minutes, not ready minutes, and incoming call wait time. Once the rep has the customer on the phone, there might be during call wait time, where the call is put on hold while the rep gets an answer for the customer.\n",
    "\n",
    "### Notes about the Dataset\n",
    "\n",
    "If you haven't worked in a call center before, these notes might help you throughout your analysis.\n",
    "\n",
    "* The call purpose is tagged for each call.\n",
    "* The time of the call is tagged in 1 hour blocks starting at 9:00 AM and ending at 5:00 PM.\n",
    "* Calls are tagged as incoming or outgoing.\n",
    "* Reps are assigned to queues. When the reps are working, they take calls in the order of their queue.\n",
    "* A call that is dropped due to technical error or missed by the center because they have reached maximum capacity is a lost call.\n",
    "* An abandoned call is when the customer hangs up because they have been waiting for too long.\n",
    "* Busy Minutes: the amount of time after a call comes in or needs to go out where the assigned rep is not available because they are busy with other customers.\n",
    "* Not Ready Minutes: the amount of time after a call comes in or needs to go out where the assigned rep is not available because they are not ready (for example, getting water).\n",
    "* Incoming Wait Time - amount of time after assigned rep is available to take the call customer waits for representative to pick up a call. This is tracked in seconds.\n",
    "* During Call Wait Time - amount of time during call that customer has to wait for representative\n",
    "\n",
    "## Getting Started\n",
    "\n",
    "You have two CSVs at your disposal, `NorthCallCenter.csv` and `SouthCallCenter.csv`. Import the appropriate libraries and create two dataframes, one called `north_df` and one called `south_df`."
   ]
  },
  {
   "cell_type": "code",
   "execution_count": 133,
   "id": "f362436b",
   "metadata": {},
   "outputs": [],
   "source": [
    "# Import the appropriate libraries with aliases\n",
    "\n",
    "import pandas as pd\n",
    "import numpy as np\n",
    "import matplotlib.pyplot as plt\n",
    "\n",
    "# Create two new dataframes\n",
    "\n",
    "north_df = pd.read_csv(\"/Users/benjaminteter/Desktop/Coding/data-analysis-projects/call-center-cleanup-assignment/NorthCallCenter.csv\", index_col=0)\n",
    "south_df = pd.read_csv(\"/Users/benjaminteter/Desktop/Coding/data-analysis-projects/call-center-cleanup-assignment/SouthCallCenter.csv\",index_col=0)\n",
    "\n",
    "\n"
   ]
  },
  {
   "cell_type": "code",
   "execution_count": 134,
   "id": "53dfdc04-6613-4dfb-a7de-6dad290ab91d",
   "metadata": {},
   "outputs": [
    {
     "name": "stdout",
     "output_type": "stream",
     "text": [
      "  Branch     Call Purpose Time Block Incoming or Outgoing Queue Rep ID Sale  \\\n",
      "0  North        Complaint    9:00 AM             Incoming     B  Brent   NO   \n",
      "1  North    Sales Support   11:00 AM             Incoming     A    Cam   NO   \n",
      "2  North    Sales Support   11:00 AM             Incoming     B   Todd   NO   \n",
      "3  North    Sales Support    4:00 PM             Incoming     B  Brent   NO   \n",
      "4  North  Product Support   12:00 PM             Incoming     B  Brent   NO   \n",
      "\n",
      "   Lost Call  Abandoned  Busy Minutes  Not Ready Minutes  Incoming Wait Time  \\\n",
      "0          0          1             9                  2                 1.0   \n",
      "1          0          0            11                  1                 1.0   \n",
      "2          0          0             9                  3                 1.0   \n",
      "3          0          0            11                  2                 1.0   \n",
      "4          0          0             8                  2                 1.0   \n",
      "\n",
      "   During Call Wait Time  Calls  \n",
      "0                      4      1  \n",
      "1                      3      1  \n",
      "2                      3      1  \n",
      "3                      4      1  \n",
      "4                      4      1  \n"
     ]
    }
   ],
   "source": [
    "print(north_df.head())"
   ]
  },
  {
   "cell_type": "code",
   "execution_count": 135,
   "id": "3676cf97-dc57-4562-9a64-8e9951f27e7c",
   "metadata": {},
   "outputs": [
    {
     "name": "stdout",
     "output_type": "stream",
     "text": [
      "  Branch   Call Purpose Time Block Incoming or Outgoing Queue Rep ID Sale  Lost Call  Abandoned  Busy Minutes  Not Ready Minutes  Incoming Wait Time  During Call Wait Time  Calls\n",
      "0  South  Sales Support   10:00 AM             Incoming     D   Kate   NO          0          0             9                  1                 1.0                      2      1\n",
      "1  South  Sales Support   10:00 AM             Incoming     C   Eric   NO          0          0             8                  2                 1.0                      4      1\n",
      "2  South  Sales Support   10:00 AM             Incoming     C  Susan   NO          0          0            10                  2                 1.0                      4      1\n",
      "3  South  Sales Support   10:00 AM             Incoming     C  Alice   NO          0          0            12                  1                 1.0                      3      1\n",
      "4  South  Sales Support   12:00 PM             Incoming     C  Sandy   NO          0          0             8                  3                 1.0                      3      1\n"
     ]
    }
   ],
   "source": [
    "print(south_df.head().to_string())"
   ]
  },
  {
   "cell_type": "code",
   "execution_count": 136,
   "id": "93bd5490",
   "metadata": {},
   "outputs": [
    {
     "name": "stdout",
     "output_type": "stream",
     "text": [
      "Branch                     0\n",
      "Call Purpose               0\n",
      "Time Block                 0\n",
      "Incoming or Outgoing       0\n",
      "Queue                      0\n",
      "Rep ID                     0\n",
      "Sale                       0\n",
      "Lost Call                  0\n",
      "Abandoned                  0\n",
      "Busy Minutes               0\n",
      "Not Ready Minutes          0\n",
      "Incoming Wait Time       163\n",
      "During Call Wait Time      0\n",
      "Calls                      0\n",
      "dtype: int64\n",
      "Branch                     0\n",
      "Call Purpose               0\n",
      "Time Block                 0\n",
      "Incoming or Outgoing       0\n",
      "Queue                      0\n",
      "Rep ID                     0\n",
      "Sale                       0\n",
      "Lost Call                  0\n",
      "Abandoned                  0\n",
      "Busy Minutes               0\n",
      "Not Ready Minutes          0\n",
      "Incoming Wait Time       188\n",
      "During Call Wait Time      0\n",
      "Calls                      0\n",
      "dtype: int64\n"
     ]
    }
   ],
   "source": [
    "print(north_df.isna().sum()) # checking for Nulls\n",
    "print(south_df.isna().sum())"
   ]
  },
  {
   "cell_type": "markdown",
   "id": "b4d3484b",
   "metadata": {},
   "source": [
    "## Task 1: Exploratory Data Analysis\n",
    "\n",
    "Time to do some EDA! In the process of learning more about the two datasets, answer the following questions. Use the code blocks below to begin cleaning your data. At the end of the section, record your answers."
   ]
  },
  {
   "cell_type": "markdown",
   "id": "76898991",
   "metadata": {},
   "source": [
    "#### EDA Question 1A:  How many reps are in the North branch?  "
   ]
  },
  {
   "cell_type": "code",
   "execution_count": 173,
   "id": "ce3eb5e4",
   "metadata": {},
   "outputs": [
    {
     "data": {
      "text/plain": [
       "np.int64(9)"
      ]
     },
     "execution_count": 173,
     "metadata": {},
     "output_type": "execute_result"
    }
   ],
   "source": [
    "# EDA Question 1A solution below:\n",
    "\n",
    "north_df.value_counts([\"Rep ID\"]).count() #value_counts counts each unique entry's frequency, then .count() gives total count of each entry - 9 reps\n"
   ]
  },
  {
   "cell_type": "markdown",
   "id": "2a9b34d8",
   "metadata": {},
   "source": [
    "#### EDA Question 1B:  How many reps are in the South branch?  "
   ]
  },
  {
   "cell_type": "code",
   "execution_count": 174,
   "id": "3c715bbf",
   "metadata": {},
   "outputs": [
    {
     "data": {
      "text/plain": [
       "np.int64(11)"
      ]
     },
     "execution_count": 174,
     "metadata": {},
     "output_type": "execute_result"
    }
   ],
   "source": [
    "# EDA Question 1B solution Below:\n",
    "\n",
    "south_df.value_counts([\"Rep ID\"]).count() #11 reps\n",
    "\n"
   ]
  },
  {
   "cell_type": "markdown",
   "id": "a872f045",
   "metadata": {},
   "source": [
    "#### EDA Question 2A:  What is the average busy minutes, not ready minutes, incoming wait time, and during call wait time for the North branch? "
   ]
  },
  {
   "cell_type": "code",
   "execution_count": 175,
   "id": "3759305f",
   "metadata": {},
   "outputs": [
    {
     "name": "stdout",
     "output_type": "stream",
     "text": [
      "9.99\n",
      "1.91\n",
      "3.05\n",
      "2.97\n"
     ]
    }
   ],
   "source": [
    "# EDA Question 2A solution Below:\n",
    "\n",
    "\n",
    "#set variable to = average of x column in north_data frame\n",
    "north_busy_avg = round(north_df[\"Busy Minutes\"].mean(), 2) #rounding to nearest hundreth\n",
    "north_not_ready_avg = round(north_df[\"Not Ready Minutes\"].mean(), 2)\n",
    "north_incoming_wait_avg = round(north_df[\"Incoming Wait Time\"].mean(), 2)\n",
    "north_during_call_avg = round(north_df[\"During Call Wait Time\"].mean(), 2)\n",
    "\n",
    "print(north_busy_avg)\n",
    "print(north_not_ready_avg)\n",
    "print(north_incoming_wait_avg)\n",
    "print(north_during_call_avg)\n"
   ]
  },
  {
   "cell_type": "markdown",
   "id": "3851cf3e",
   "metadata": {},
   "source": [
    "#### EDA Question 2B:  What is the average busy minutes, not ready minutes, incoming wait time, and during call wait time for the South branch? "
   ]
  },
  {
   "cell_type": "code",
   "execution_count": 176,
   "id": "a77ec152",
   "metadata": {},
   "outputs": [
    {
     "name": "stdout",
     "output_type": "stream",
     "text": [
      "10.05\n",
      "1.91\n",
      "3.0\n",
      "3.08\n"
     ]
    }
   ],
   "source": [
    "# EDA Question 2B solution Below:\n",
    "\n",
    "#same as above, showing south branch stats\n",
    "south_busy_avg = round(south_df[\"Busy Minutes\"].mean(), 2)\n",
    "south_not_ready_avg = round(south_df[\"Not Ready Minutes\"].mean(), 2)\n",
    "south_incoming_wait_avg = round(south_df[\"Incoming Wait Time\"].mean(), 2)\n",
    "south_during_call_avg = round(south_df[\"During Call Wait Time\"].mean(), 2)\n",
    "\n",
    "print(south_busy_avg)\n",
    "print(south_not_ready_avg)\n",
    "print(south_incoming_wait_avg)\n",
    "print(south_during_call_avg)\n"
   ]
  },
  {
   "cell_type": "markdown",
   "id": "75915553",
   "metadata": {},
   "source": [
    "#### EDA Question 3:  What is the number of calls taken for each time block(Both North and South combined)?"
   ]
  },
  {
   "cell_type": "code",
   "execution_count": 141,
   "id": "49566936",
   "metadata": {},
   "outputs": [
    {
     "name": "stdout",
     "output_type": "stream",
     "text": [
      "9:00 Calls:  10\n",
      "10:00 Calls:  99\n",
      "11:00 Calls:  56\n",
      "12:00 Calls:  120\n",
      "1:00 Calls:  40\n",
      "2:00 Calls:  65\n",
      "3:00 Calls:  73\n",
      "4:00 Calls:  53\n",
      "5:00 Calls:  43\n"
     ]
    }
   ],
   "source": [
    "# EDA Question 3 solution Below:\n",
    "\n",
    "#get sum of calls per each block of time, combine N and S\n",
    "#filter per hour block of time, 9 - 5\n",
    "\n",
    "north_9 = north_df[\"Calls\"][north_df['Time Block'] == \"9:00 AM\"].sum()  #north_df[\"Calls\"] extracts calls column, [north_df['Time Block'] == \"9:00 AM\"] checks 9AM rows in Time Block, give sum\n",
    "south_9 = south_df[\"Calls\"][south_df['Time Block'] == \"9:00 AM\"].sum() #repeat for south division, \n",
    "\n",
    "print(\"9:00 Calls: \", north_9 + south_9) #adds both division's 9AM calls\n",
    "\n",
    "#repeat for each hour block of time\n",
    "north_10 = north_df[\"Calls\"][north_df['Time Block'] == \"10:00 AM\"].sum()\n",
    "south_10 = south_df[\"Calls\"][south_df['Time Block'] == \"10:00 AM\"].sum()\n",
    "\n",
    "print(\"10:00 Calls: \", north_10 + south_10)\n",
    "\n",
    "north_11 = north_df[\"Calls\"][north_df['Time Block'] == \"11:00 AM\"].sum()\n",
    "south_11 = south_df[\"Calls\"][south_df['Time Block'] == \"11:00 AM\"].sum()\n",
    "\n",
    "print(\"11:00 Calls: \", north_11 + south_11)\n",
    "\n",
    "north_12 = north_df[\"Calls\"][north_df['Time Block'] == \"12:00 PM\"].sum()\n",
    "south_12 = south_df[\"Calls\"][south_df['Time Block'] == \"12:00 PM\"].sum()\n",
    "\n",
    "print(\"12:00 Calls: \", north_12 + south_12)\n",
    "\n",
    "north_1 = north_df[\"Calls\"][north_df['Time Block'] == \"1:00 PM\"].sum()\n",
    "south_1 = south_df[\"Calls\"][south_df['Time Block'] == \"1:00 PM\"].sum()\n",
    "\n",
    "print(\"1:00 Calls: \", north_1 + south_1)\n",
    "\n",
    "\n",
    "north_2 = north_df[\"Calls\"][north_df['Time Block'] == \"2:00 PM\"].sum()\n",
    "south_2 = south_df[\"Calls\"][south_df['Time Block'] == \"2:00 PM\"].sum()\n",
    "\n",
    "print(\"2:00 Calls: \", north_2 + south_2)\n",
    "\n",
    "north_3 = north_df[\"Calls\"][north_df['Time Block'] == \"3:00 PM\"].sum()\n",
    "south_3 = south_df[\"Calls\"][south_df['Time Block'] == \"3:00 PM\"].sum()\n",
    "\n",
    "print(\"3:00 Calls: \", north_3 + south_3)\n",
    "\n",
    "north_4 = north_df[\"Calls\"][north_df['Time Block'] == \"4:00 PM\"].sum()\n",
    "south_4 = south_df[\"Calls\"][south_df['Time Block'] == \"4:00 PM\"].sum()\n",
    "\n",
    "print(\"4:00 Calls: \", north_4 + south_4)\n",
    "\n",
    "\n",
    "north_5 = north_df[\"Calls\"][north_df['Time Block'] == \"5:00 PM\"].sum()\n",
    "south_5 = south_df[\"Calls\"][south_df['Time Block'] == \"5:00 PM\"].sum()\n",
    "\n",
    "print(\"5:00 Calls: \", north_5 + south_5)"
   ]
  },
  {
   "cell_type": "code",
   "execution_count": 142,
   "id": "4f461ace-66bf-4204-8ebb-4db21da6a701",
   "metadata": {},
   "outputs": [
    {
     "name": "stdout",
     "output_type": "stream",
     "text": [
      "9:00 AM Calls: 10\n",
      "10:00 AM Calls: 99\n",
      "11:00 AM Calls: 56\n",
      "12:00 PM Calls: 120\n",
      "1:00 PM Calls: 40\n",
      "2:00 PM Calls: 65\n",
      "3:00 PM Calls: 73\n",
      "4:00 PM Calls: 53\n",
      "5:00 PM Calls: 43\n"
     ]
    }
   ],
   "source": [
    "#executes same thing as above code but as a loop, using each 9-5 time block as a variable.\n",
    "# I understood the above code was very repetative and could have been simplified, but wanted visual step by step representation of how a loop was going to work.\n",
    "\n",
    "time_blocks = [\"9:00 AM\", \"10:00 AM\", \"11:00 AM\", \"12:00 PM\", \"1:00 PM\", \"2:00 PM\", \"3:00 PM\", \"4:00 PM\", \"5:00 PM\"]\n",
    "\n",
    "for time_block in time_blocks: #iterates over each time block in time_blocks column\n",
    "    north_calls = north_df[\"Calls\"][north_df['Time Block'] == time_block].sum() #filter north_df, time_blocks column matches each time_block 9-5 \n",
    "    south_calls = south_df[\"Calls\"][south_df['Time Block'] == time_block].sum()\n",
    "    total_calls = north_calls + south_calls\n",
    "    print(f\"{time_block} Calls: {total_calls}\") \n",
    "\n",
    "\n",
    "# Filters north_df to get rows where time_blocks column matches the current time_block.\n",
    "# Extracts the 'Calls' column from these rows and calculates the sum of all the matching calls."
   ]
  },
  {
   "cell_type": "markdown",
   "id": "40b1fd3f",
   "metadata": {},
   "source": [
    "##### Record your answers for the EDA section below:\n",
    "- 1a) Reps in the North Branch = 9\n",
    "- 1b) Reps in the South Branch = 11\n",
    "\n",
    "\n",
    "- 2a) North Branch, (round to the nearest hundredth): \n",
    "> - Busy Minutes = 9.99\n",
    "> - Not Ready Minutes = 1.91\n",
    "> - Incoming Wait Time = 3.05\n",
    "> - During Call Wait Time = 2.97\n",
    "- 2b) South Branch, (round to the nearest hundredth):\n",
    "> - Busy Minutes = 10.05\n",
    "> - Not Ready Minutes = 1.91\n",
    "> - Incoming Wait Time = 3.0\n",
    "> - During Call Wait Time = 3.08\n",
    "- 3) Total Calls taken for all branches per time block:\n",
    "\n",
    "> - 9:00AM   = 10\n",
    "> - 10:00AM  = 99\n",
    "> - 11:00AM  = 56\n",
    "> - 12:00PM  = 120\n",
    "> - 1:00PM   = 40\n",
    "> - 2:00PM   = 65\n",
    "> - 3:00PM   = 73\n",
    "> - 4:00PM   = 53\n",
    "> - 5:00PM   = 43\n",
    "\n"
   ]
  },
  {
   "cell_type": "markdown",
   "id": "366bfb19",
   "metadata": {},
   "source": [
    "## Task 2: Cleaning Your Data \n",
    "Now you need to clean up the datasets. When cleaning the datasets, you may find that there isn't dirty data to clean. That is okay! Some questions you need to answer about the data sets.\n",
    "* Add additional code blocks as needed to show how you came to your conclusions. Add comments in your code blocks to help others understand your thinking. "
   ]
  },
  {
   "cell_type": "markdown",
   "id": "c3564d69",
   "metadata": {},
   "source": [
    "#### Cleaning Question 1:  Is there any missing data and if yes explain what you would do with the missing data and why?"
   ]
  },
  {
   "cell_type": "code",
   "execution_count": 143,
   "id": "5af538b1-bb6f-444e-a229-f7392aecc2c8",
   "metadata": {},
   "outputs": [
    {
     "data": {
      "text/html": [
       "<div>\n",
       "<style scoped>\n",
       "    .dataframe tbody tr th:only-of-type {\n",
       "        vertical-align: middle;\n",
       "    }\n",
       "\n",
       "    .dataframe tbody tr th {\n",
       "        vertical-align: top;\n",
       "    }\n",
       "\n",
       "    .dataframe thead th {\n",
       "        text-align: right;\n",
       "    }\n",
       "</style>\n",
       "<table border=\"1\" class=\"dataframe\">\n",
       "  <thead>\n",
       "    <tr style=\"text-align: right;\">\n",
       "      <th></th>\n",
       "      <th>Branch</th>\n",
       "      <th>Call Purpose</th>\n",
       "      <th>Time Block</th>\n",
       "      <th>Incoming or Outgoing</th>\n",
       "      <th>Queue</th>\n",
       "      <th>Rep ID</th>\n",
       "      <th>Sale</th>\n",
       "      <th>Lost Call</th>\n",
       "      <th>Abandoned</th>\n",
       "      <th>Busy Minutes</th>\n",
       "      <th>Not Ready Minutes</th>\n",
       "      <th>Incoming Wait Time</th>\n",
       "      <th>During Call Wait Time</th>\n",
       "      <th>Calls</th>\n",
       "    </tr>\n",
       "  </thead>\n",
       "  <tbody>\n",
       "    <tr>\n",
       "      <th>0</th>\n",
       "      <td>False</td>\n",
       "      <td>False</td>\n",
       "      <td>False</td>\n",
       "      <td>False</td>\n",
       "      <td>False</td>\n",
       "      <td>False</td>\n",
       "      <td>False</td>\n",
       "      <td>False</td>\n",
       "      <td>False</td>\n",
       "      <td>False</td>\n",
       "      <td>False</td>\n",
       "      <td>False</td>\n",
       "      <td>False</td>\n",
       "      <td>False</td>\n",
       "    </tr>\n",
       "    <tr>\n",
       "      <th>1</th>\n",
       "      <td>False</td>\n",
       "      <td>False</td>\n",
       "      <td>False</td>\n",
       "      <td>False</td>\n",
       "      <td>False</td>\n",
       "      <td>False</td>\n",
       "      <td>False</td>\n",
       "      <td>False</td>\n",
       "      <td>False</td>\n",
       "      <td>False</td>\n",
       "      <td>False</td>\n",
       "      <td>False</td>\n",
       "      <td>False</td>\n",
       "      <td>False</td>\n",
       "    </tr>\n",
       "    <tr>\n",
       "      <th>2</th>\n",
       "      <td>False</td>\n",
       "      <td>False</td>\n",
       "      <td>False</td>\n",
       "      <td>False</td>\n",
       "      <td>False</td>\n",
       "      <td>False</td>\n",
       "      <td>False</td>\n",
       "      <td>False</td>\n",
       "      <td>False</td>\n",
       "      <td>False</td>\n",
       "      <td>False</td>\n",
       "      <td>False</td>\n",
       "      <td>False</td>\n",
       "      <td>False</td>\n",
       "    </tr>\n",
       "    <tr>\n",
       "      <th>3</th>\n",
       "      <td>False</td>\n",
       "      <td>False</td>\n",
       "      <td>False</td>\n",
       "      <td>False</td>\n",
       "      <td>False</td>\n",
       "      <td>False</td>\n",
       "      <td>False</td>\n",
       "      <td>False</td>\n",
       "      <td>False</td>\n",
       "      <td>False</td>\n",
       "      <td>False</td>\n",
       "      <td>False</td>\n",
       "      <td>False</td>\n",
       "      <td>False</td>\n",
       "    </tr>\n",
       "    <tr>\n",
       "      <th>4</th>\n",
       "      <td>False</td>\n",
       "      <td>False</td>\n",
       "      <td>False</td>\n",
       "      <td>False</td>\n",
       "      <td>False</td>\n",
       "      <td>False</td>\n",
       "      <td>False</td>\n",
       "      <td>False</td>\n",
       "      <td>False</td>\n",
       "      <td>False</td>\n",
       "      <td>False</td>\n",
       "      <td>False</td>\n",
       "      <td>False</td>\n",
       "      <td>False</td>\n",
       "    </tr>\n",
       "    <tr>\n",
       "      <th>...</th>\n",
       "      <td>...</td>\n",
       "      <td>...</td>\n",
       "      <td>...</td>\n",
       "      <td>...</td>\n",
       "      <td>...</td>\n",
       "      <td>...</td>\n",
       "      <td>...</td>\n",
       "      <td>...</td>\n",
       "      <td>...</td>\n",
       "      <td>...</td>\n",
       "      <td>...</td>\n",
       "      <td>...</td>\n",
       "      <td>...</td>\n",
       "      <td>...</td>\n",
       "    </tr>\n",
       "    <tr>\n",
       "      <th>240</th>\n",
       "      <td>False</td>\n",
       "      <td>False</td>\n",
       "      <td>False</td>\n",
       "      <td>False</td>\n",
       "      <td>False</td>\n",
       "      <td>False</td>\n",
       "      <td>False</td>\n",
       "      <td>False</td>\n",
       "      <td>False</td>\n",
       "      <td>False</td>\n",
       "      <td>False</td>\n",
       "      <td>True</td>\n",
       "      <td>False</td>\n",
       "      <td>False</td>\n",
       "    </tr>\n",
       "    <tr>\n",
       "      <th>241</th>\n",
       "      <td>False</td>\n",
       "      <td>False</td>\n",
       "      <td>False</td>\n",
       "      <td>False</td>\n",
       "      <td>False</td>\n",
       "      <td>False</td>\n",
       "      <td>False</td>\n",
       "      <td>False</td>\n",
       "      <td>False</td>\n",
       "      <td>False</td>\n",
       "      <td>False</td>\n",
       "      <td>True</td>\n",
       "      <td>False</td>\n",
       "      <td>False</td>\n",
       "    </tr>\n",
       "    <tr>\n",
       "      <th>242</th>\n",
       "      <td>False</td>\n",
       "      <td>False</td>\n",
       "      <td>False</td>\n",
       "      <td>False</td>\n",
       "      <td>False</td>\n",
       "      <td>False</td>\n",
       "      <td>False</td>\n",
       "      <td>False</td>\n",
       "      <td>False</td>\n",
       "      <td>False</td>\n",
       "      <td>False</td>\n",
       "      <td>True</td>\n",
       "      <td>False</td>\n",
       "      <td>False</td>\n",
       "    </tr>\n",
       "    <tr>\n",
       "      <th>243</th>\n",
       "      <td>False</td>\n",
       "      <td>False</td>\n",
       "      <td>False</td>\n",
       "      <td>False</td>\n",
       "      <td>False</td>\n",
       "      <td>False</td>\n",
       "      <td>False</td>\n",
       "      <td>False</td>\n",
       "      <td>False</td>\n",
       "      <td>False</td>\n",
       "      <td>False</td>\n",
       "      <td>True</td>\n",
       "      <td>False</td>\n",
       "      <td>False</td>\n",
       "    </tr>\n",
       "    <tr>\n",
       "      <th>244</th>\n",
       "      <td>False</td>\n",
       "      <td>False</td>\n",
       "      <td>False</td>\n",
       "      <td>False</td>\n",
       "      <td>False</td>\n",
       "      <td>False</td>\n",
       "      <td>False</td>\n",
       "      <td>False</td>\n",
       "      <td>False</td>\n",
       "      <td>False</td>\n",
       "      <td>False</td>\n",
       "      <td>True</td>\n",
       "      <td>False</td>\n",
       "      <td>False</td>\n",
       "    </tr>\n",
       "  </tbody>\n",
       "</table>\n",
       "<p>245 rows × 14 columns</p>\n",
       "</div>"
      ],
      "text/plain": [
       "     Branch  Call Purpose  Time Block  Incoming or Outgoing  Queue  Rep ID  \\\n",
       "0     False         False       False                 False  False   False   \n",
       "1     False         False       False                 False  False   False   \n",
       "2     False         False       False                 False  False   False   \n",
       "3     False         False       False                 False  False   False   \n",
       "4     False         False       False                 False  False   False   \n",
       "..      ...           ...         ...                   ...    ...     ...   \n",
       "240   False         False       False                 False  False   False   \n",
       "241   False         False       False                 False  False   False   \n",
       "242   False         False       False                 False  False   False   \n",
       "243   False         False       False                 False  False   False   \n",
       "244   False         False       False                 False  False   False   \n",
       "\n",
       "      Sale  Lost Call  Abandoned  Busy Minutes  Not Ready Minutes  \\\n",
       "0    False      False      False         False              False   \n",
       "1    False      False      False         False              False   \n",
       "2    False      False      False         False              False   \n",
       "3    False      False      False         False              False   \n",
       "4    False      False      False         False              False   \n",
       "..     ...        ...        ...           ...                ...   \n",
       "240  False      False      False         False              False   \n",
       "241  False      False      False         False              False   \n",
       "242  False      False      False         False              False   \n",
       "243  False      False      False         False              False   \n",
       "244  False      False      False         False              False   \n",
       "\n",
       "     Incoming Wait Time  During Call Wait Time  Calls  \n",
       "0                 False                  False  False  \n",
       "1                 False                  False  False  \n",
       "2                 False                  False  False  \n",
       "3                 False                  False  False  \n",
       "4                 False                  False  False  \n",
       "..                  ...                    ...    ...  \n",
       "240                True                  False  False  \n",
       "241                True                  False  False  \n",
       "242                True                  False  False  \n",
       "243                True                  False  False  \n",
       "244                True                  False  False  \n",
       "\n",
       "[245 rows x 14 columns]"
      ]
     },
     "execution_count": 143,
     "metadata": {},
     "output_type": "execute_result"
    }
   ],
   "source": [
    "north_df.isna()"
   ]
  },
  {
   "cell_type": "code",
   "execution_count": 144,
   "id": "3f28886e-e466-4ce7-a209-207dbf612025",
   "metadata": {},
   "outputs": [
    {
     "data": {
      "text/html": [
       "<div>\n",
       "<style scoped>\n",
       "    .dataframe tbody tr th:only-of-type {\n",
       "        vertical-align: middle;\n",
       "    }\n",
       "\n",
       "    .dataframe tbody tr th {\n",
       "        vertical-align: top;\n",
       "    }\n",
       "\n",
       "    .dataframe thead th {\n",
       "        text-align: right;\n",
       "    }\n",
       "</style>\n",
       "<table border=\"1\" class=\"dataframe\">\n",
       "  <thead>\n",
       "    <tr style=\"text-align: right;\">\n",
       "      <th></th>\n",
       "      <th>Branch</th>\n",
       "      <th>Call Purpose</th>\n",
       "      <th>Time Block</th>\n",
       "      <th>Incoming or Outgoing</th>\n",
       "      <th>Queue</th>\n",
       "      <th>Rep ID</th>\n",
       "      <th>Sale</th>\n",
       "      <th>Lost Call</th>\n",
       "      <th>Abandoned</th>\n",
       "      <th>Busy Minutes</th>\n",
       "      <th>Not Ready Minutes</th>\n",
       "      <th>Incoming Wait Time</th>\n",
       "      <th>During Call Wait Time</th>\n",
       "      <th>Calls</th>\n",
       "    </tr>\n",
       "  </thead>\n",
       "  <tbody>\n",
       "    <tr>\n",
       "      <th>0</th>\n",
       "      <td>False</td>\n",
       "      <td>False</td>\n",
       "      <td>False</td>\n",
       "      <td>False</td>\n",
       "      <td>False</td>\n",
       "      <td>False</td>\n",
       "      <td>False</td>\n",
       "      <td>False</td>\n",
       "      <td>False</td>\n",
       "      <td>False</td>\n",
       "      <td>False</td>\n",
       "      <td>False</td>\n",
       "      <td>False</td>\n",
       "      <td>False</td>\n",
       "    </tr>\n",
       "    <tr>\n",
       "      <th>1</th>\n",
       "      <td>False</td>\n",
       "      <td>False</td>\n",
       "      <td>False</td>\n",
       "      <td>False</td>\n",
       "      <td>False</td>\n",
       "      <td>False</td>\n",
       "      <td>False</td>\n",
       "      <td>False</td>\n",
       "      <td>False</td>\n",
       "      <td>False</td>\n",
       "      <td>False</td>\n",
       "      <td>False</td>\n",
       "      <td>False</td>\n",
       "      <td>False</td>\n",
       "    </tr>\n",
       "    <tr>\n",
       "      <th>2</th>\n",
       "      <td>False</td>\n",
       "      <td>False</td>\n",
       "      <td>False</td>\n",
       "      <td>False</td>\n",
       "      <td>False</td>\n",
       "      <td>False</td>\n",
       "      <td>False</td>\n",
       "      <td>False</td>\n",
       "      <td>False</td>\n",
       "      <td>False</td>\n",
       "      <td>False</td>\n",
       "      <td>False</td>\n",
       "      <td>False</td>\n",
       "      <td>False</td>\n",
       "    </tr>\n",
       "    <tr>\n",
       "      <th>3</th>\n",
       "      <td>False</td>\n",
       "      <td>False</td>\n",
       "      <td>False</td>\n",
       "      <td>False</td>\n",
       "      <td>False</td>\n",
       "      <td>False</td>\n",
       "      <td>False</td>\n",
       "      <td>False</td>\n",
       "      <td>False</td>\n",
       "      <td>False</td>\n",
       "      <td>False</td>\n",
       "      <td>False</td>\n",
       "      <td>False</td>\n",
       "      <td>False</td>\n",
       "    </tr>\n",
       "    <tr>\n",
       "      <th>4</th>\n",
       "      <td>False</td>\n",
       "      <td>False</td>\n",
       "      <td>False</td>\n",
       "      <td>False</td>\n",
       "      <td>False</td>\n",
       "      <td>False</td>\n",
       "      <td>False</td>\n",
       "      <td>False</td>\n",
       "      <td>False</td>\n",
       "      <td>False</td>\n",
       "      <td>False</td>\n",
       "      <td>False</td>\n",
       "      <td>False</td>\n",
       "      <td>False</td>\n",
       "    </tr>\n",
       "    <tr>\n",
       "      <th>...</th>\n",
       "      <td>...</td>\n",
       "      <td>...</td>\n",
       "      <td>...</td>\n",
       "      <td>...</td>\n",
       "      <td>...</td>\n",
       "      <td>...</td>\n",
       "      <td>...</td>\n",
       "      <td>...</td>\n",
       "      <td>...</td>\n",
       "      <td>...</td>\n",
       "      <td>...</td>\n",
       "      <td>...</td>\n",
       "      <td>...</td>\n",
       "      <td>...</td>\n",
       "    </tr>\n",
       "    <tr>\n",
       "      <th>309</th>\n",
       "      <td>False</td>\n",
       "      <td>False</td>\n",
       "      <td>False</td>\n",
       "      <td>False</td>\n",
       "      <td>False</td>\n",
       "      <td>False</td>\n",
       "      <td>False</td>\n",
       "      <td>False</td>\n",
       "      <td>False</td>\n",
       "      <td>False</td>\n",
       "      <td>False</td>\n",
       "      <td>True</td>\n",
       "      <td>False</td>\n",
       "      <td>False</td>\n",
       "    </tr>\n",
       "    <tr>\n",
       "      <th>310</th>\n",
       "      <td>False</td>\n",
       "      <td>False</td>\n",
       "      <td>False</td>\n",
       "      <td>False</td>\n",
       "      <td>False</td>\n",
       "      <td>False</td>\n",
       "      <td>False</td>\n",
       "      <td>False</td>\n",
       "      <td>False</td>\n",
       "      <td>False</td>\n",
       "      <td>False</td>\n",
       "      <td>True</td>\n",
       "      <td>False</td>\n",
       "      <td>False</td>\n",
       "    </tr>\n",
       "    <tr>\n",
       "      <th>311</th>\n",
       "      <td>False</td>\n",
       "      <td>False</td>\n",
       "      <td>False</td>\n",
       "      <td>False</td>\n",
       "      <td>False</td>\n",
       "      <td>False</td>\n",
       "      <td>False</td>\n",
       "      <td>False</td>\n",
       "      <td>False</td>\n",
       "      <td>False</td>\n",
       "      <td>False</td>\n",
       "      <td>True</td>\n",
       "      <td>False</td>\n",
       "      <td>False</td>\n",
       "    </tr>\n",
       "    <tr>\n",
       "      <th>312</th>\n",
       "      <td>False</td>\n",
       "      <td>False</td>\n",
       "      <td>False</td>\n",
       "      <td>False</td>\n",
       "      <td>False</td>\n",
       "      <td>False</td>\n",
       "      <td>False</td>\n",
       "      <td>False</td>\n",
       "      <td>False</td>\n",
       "      <td>False</td>\n",
       "      <td>False</td>\n",
       "      <td>True</td>\n",
       "      <td>False</td>\n",
       "      <td>False</td>\n",
       "    </tr>\n",
       "    <tr>\n",
       "      <th>313</th>\n",
       "      <td>False</td>\n",
       "      <td>False</td>\n",
       "      <td>False</td>\n",
       "      <td>False</td>\n",
       "      <td>False</td>\n",
       "      <td>False</td>\n",
       "      <td>False</td>\n",
       "      <td>False</td>\n",
       "      <td>False</td>\n",
       "      <td>False</td>\n",
       "      <td>False</td>\n",
       "      <td>True</td>\n",
       "      <td>False</td>\n",
       "      <td>False</td>\n",
       "    </tr>\n",
       "  </tbody>\n",
       "</table>\n",
       "<p>314 rows × 14 columns</p>\n",
       "</div>"
      ],
      "text/plain": [
       "     Branch  Call Purpose  Time Block  Incoming or Outgoing  Queue  Rep ID  \\\n",
       "0     False         False       False                 False  False   False   \n",
       "1     False         False       False                 False  False   False   \n",
       "2     False         False       False                 False  False   False   \n",
       "3     False         False       False                 False  False   False   \n",
       "4     False         False       False                 False  False   False   \n",
       "..      ...           ...         ...                   ...    ...     ...   \n",
       "309   False         False       False                 False  False   False   \n",
       "310   False         False       False                 False  False   False   \n",
       "311   False         False       False                 False  False   False   \n",
       "312   False         False       False                 False  False   False   \n",
       "313   False         False       False                 False  False   False   \n",
       "\n",
       "      Sale  Lost Call  Abandoned  Busy Minutes  Not Ready Minutes  \\\n",
       "0    False      False      False         False              False   \n",
       "1    False      False      False         False              False   \n",
       "2    False      False      False         False              False   \n",
       "3    False      False      False         False              False   \n",
       "4    False      False      False         False              False   \n",
       "..     ...        ...        ...           ...                ...   \n",
       "309  False      False      False         False              False   \n",
       "310  False      False      False         False              False   \n",
       "311  False      False      False         False              False   \n",
       "312  False      False      False         False              False   \n",
       "313  False      False      False         False              False   \n",
       "\n",
       "     Incoming Wait Time  During Call Wait Time  Calls  \n",
       "0                 False                  False  False  \n",
       "1                 False                  False  False  \n",
       "2                 False                  False  False  \n",
       "3                 False                  False  False  \n",
       "4                 False                  False  False  \n",
       "..                  ...                    ...    ...  \n",
       "309                True                  False  False  \n",
       "310                True                  False  False  \n",
       "311                True                  False  False  \n",
       "312                True                  False  False  \n",
       "313                True                  False  False  \n",
       "\n",
       "[314 rows x 14 columns]"
      ]
     },
     "execution_count": 144,
     "metadata": {},
     "output_type": "execute_result"
    }
   ],
   "source": [
    "south_df.isna()"
   ]
  },
  {
   "cell_type": "code",
   "execution_count": 145,
   "id": "b77fb574",
   "metadata": {},
   "outputs": [
    {
     "name": "stdout",
     "output_type": "stream",
     "text": [
      "Branch                     0\n",
      "Call Purpose               0\n",
      "Time Block                 0\n",
      "Incoming or Outgoing       0\n",
      "Queue                      0\n",
      "Rep ID                     0\n",
      "Sale                       0\n",
      "Lost Call                  0\n",
      "Abandoned                  0\n",
      "Busy Minutes               0\n",
      "Not Ready Minutes          0\n",
      "Incoming Wait Time       163\n",
      "During Call Wait Time      0\n",
      "Calls                      0\n",
      "dtype: int64\n",
      "Branch                     0\n",
      "Call Purpose               0\n",
      "Time Block                 0\n",
      "Incoming or Outgoing       0\n",
      "Queue                      0\n",
      "Rep ID                     0\n",
      "Sale                       0\n",
      "Lost Call                  0\n",
      "Abandoned                  0\n",
      "Busy Minutes               0\n",
      "Not Ready Minutes          0\n",
      "Incoming Wait Time       188\n",
      "During Call Wait Time      0\n",
      "Calls                      0\n",
      "dtype: int64\n"
     ]
    }
   ],
   "source": [
    "# Question 1 solution below\n",
    "\n",
    "print(north_df.isna().sum()) \n",
    "print(south_df.isna().sum())"
   ]
  },
  {
   "cell_type": "code",
   "execution_count": 146,
   "id": "5fcc62a8-aa6b-4295-a877-f533972162d3",
   "metadata": {},
   "outputs": [],
   "source": [
    "# north_df = north_df.fillna(0)\n",
    "\n",
    "# north_df = south_df.fillna(0)"
   ]
  },
  {
   "cell_type": "markdown",
   "id": "0dc5c568-40db-4889-b82b-64610d8058d2",
   "metadata": {},
   "source": [
    "#### Record your answer below:\n",
    "\n",
    "The missing values in this dataframe are all located in the \"Incoming Wait Time\" column in both dataframes. There are 163 null values in the \"Incoming Wait Time\" column in the North Branch dataframe (north_df). There are 188 null values in the Incoming Wait Time column in the South Branch dataframe (south_df). Generally, to deal with these missing values, I would use fillna(0) to fill the nulls with 0. However, the missing values in Incoming Wait Time are all associated with outgoing calls, which outgoing calls do not have an incoming wait time. So for this use case, I am leaving the missing values in, as they do not truly effect our queries."
   ]
  },
  {
   "cell_type": "markdown",
   "id": "dc47f020",
   "metadata": {},
   "source": [
    "#### Cleaning Question 2:  In the North data set, there are two separate \"YES\" values for a sale. Why and how did you rectify the issue?"
   ]
  },
  {
   "cell_type": "code",
   "execution_count": 147,
   "id": "4e0fbad6",
   "metadata": {},
   "outputs": [
    {
     "data": {
      "text/plain": [
       "array(['NO', 'YES'], dtype=object)"
      ]
     },
     "execution_count": 147,
     "metadata": {},
     "output_type": "execute_result"
    }
   ],
   "source": [
    "# Cleaning Question 2 solution below:\n",
    "\n",
    "#north_df.head()     #\"Sale\" column has yes or no values\n",
    "#north_df[\"Sale\"].unique()     #column's unique values are \"NO\", \"YES\", and \"YES \"\n",
    "\n",
    "north_df[\"Sale\"] = north_df[\"Sale\"].str.strip() #strips whitespace from \"sale\" \n",
    "\n",
    "north_df[\"Sale\"].unique() #checks unique values again and now we have only \"no\" and \"yes\"\n",
    "\n",
    "\n",
    "\n"
   ]
  },
  {
   "cell_type": "markdown",
   "id": "cf81b612-eb6b-45a6-ac8e-d6f4e08131a8",
   "metadata": {},
   "source": [
    "##### Record your answer by below:\n",
    "> The Sale column has unique values: \"NO\", \"YES\", and \"YES \". The second YES has a trailing space behind the word. This column should just have the binary Yes or No options, to prevent any confusion in the data. To eliminate the duplucate YES, I used .strip() on the Sale column. Now all YES values are the same, without a trailing whitespace. "
   ]
  },
  {
   "cell_type": "markdown",
   "id": "715f375a",
   "metadata": {},
   "source": [
    "#### Cleaning Question 3:  Are there duplicates in the two data sets? If there are, how did you handle them?"
   ]
  },
  {
   "cell_type": "code",
   "execution_count": 177,
   "id": "2323673a",
   "metadata": {},
   "outputs": [
    {
     "name": "stdout",
     "output_type": "stream",
     "text": [
      "No duplicates found\n"
     ]
    }
   ],
   "source": [
    "# Cleaning Question 3 solution below:\n",
    "\n",
    "import pandas as pd\n",
    "\n",
    "north_df = pd.read_csv(\"NorthCallCenter.csv\") \n",
    "south_df = pd.read_csv(\"SouthCallCenter.csv\")\n",
    "#re inserting my csv files here because I initially set them up with i index_col=0, which for some reason showed me there were duplicates.\n",
    "\n",
    "df = pd.concat([north_df, south_df], ignore_index=True)\n",
    "total_duplicates = df[df.duplicated()]\n",
    "if not total_duplicates.empty: \n",
    "    print(\"Duplicates:\")\n",
    "    print(total_duplicates)\n",
    "else:\n",
    "    print(\"No duplicates found\")\n",
    "\n",
    "\n",
    "#above function says: when duplicatated() runs, if result is not empty (meaning it found duplicates) print \"duplicates:\" as well as the actual duplicate themselves.\n",
    "#Otherwise, if result is empty (no duplicates), print \"No duplicates found\"\n",
    "\n"
   ]
  },
  {
   "cell_type": "markdown",
   "id": "4fbfe2e8-490a-48dc-b0ca-599879076c62",
   "metadata": {},
   "source": [
    "##### Record your answer below:\n",
    "> Your Answer: There were no dupicates found."
   ]
  },
  {
   "cell_type": "markdown",
   "id": "8ffaa865",
   "metadata": {},
   "source": [
    "#### Cleaning Question 4:  Is any of the data in the two data sets unnecessary? If yes, how did you handle it?"
   ]
  },
  {
   "cell_type": "code",
   "execution_count": 149,
   "id": "78b45e70",
   "metadata": {},
   "outputs": [],
   "source": [
    "# Cleaning Question 4 solution below:\n",
    "\n"
   ]
  },
  {
   "cell_type": "markdown",
   "id": "689e76b9-64d2-45d7-883a-b8c4d822e0c8",
   "metadata": {},
   "source": [
    "##### Record your answer below:\n",
    "I did not find any data to be unnecessary. If there were columns that did not pertain to our business questions and analysis, I would drop the columns."
   ]
  },
  {
   "cell_type": "markdown",
   "id": "73342a9a",
   "metadata": {},
   "source": [
    "## Task 3: Data Manipulation\n",
    "Before you begin answering any questions, combine the two datasets together to create a third dataframe called df. You can use this third dataframe to compare the two call centers to company-wide trends.\n",
    "* Add additional code blocks as needed to show how you came to your conclusions. Add comments in your code blocks to help others understand your thinking. Record your answer below."
   ]
  },
  {
   "cell_type": "code",
   "execution_count": 178,
   "id": "e9705c34",
   "metadata": {},
   "outputs": [
    {
     "data": {
      "text/html": [
       "<div>\n",
       "<style scoped>\n",
       "    .dataframe tbody tr th:only-of-type {\n",
       "        vertical-align: middle;\n",
       "    }\n",
       "\n",
       "    .dataframe tbody tr th {\n",
       "        vertical-align: top;\n",
       "    }\n",
       "\n",
       "    .dataframe thead th {\n",
       "        text-align: right;\n",
       "    }\n",
       "</style>\n",
       "<table border=\"1\" class=\"dataframe\">\n",
       "  <thead>\n",
       "    <tr style=\"text-align: right;\">\n",
       "      <th></th>\n",
       "      <th>Unnamed: 0</th>\n",
       "      <th>Branch</th>\n",
       "      <th>Call Purpose</th>\n",
       "      <th>Time Block</th>\n",
       "      <th>Incoming or Outgoing</th>\n",
       "      <th>Queue</th>\n",
       "      <th>Rep ID</th>\n",
       "      <th>Sale</th>\n",
       "      <th>Lost Call</th>\n",
       "      <th>Abandoned</th>\n",
       "      <th>Busy Minutes</th>\n",
       "      <th>Not Ready Minutes</th>\n",
       "      <th>Incoming Wait Time</th>\n",
       "      <th>During Call Wait Time</th>\n",
       "      <th>Calls</th>\n",
       "    </tr>\n",
       "  </thead>\n",
       "  <tbody>\n",
       "    <tr>\n",
       "      <th>0</th>\n",
       "      <td>0</td>\n",
       "      <td>North</td>\n",
       "      <td>Complaint</td>\n",
       "      <td>9:00 AM</td>\n",
       "      <td>Incoming</td>\n",
       "      <td>B</td>\n",
       "      <td>Brent</td>\n",
       "      <td>NO</td>\n",
       "      <td>0</td>\n",
       "      <td>1</td>\n",
       "      <td>9</td>\n",
       "      <td>2</td>\n",
       "      <td>1.0</td>\n",
       "      <td>4</td>\n",
       "      <td>1</td>\n",
       "    </tr>\n",
       "    <tr>\n",
       "      <th>1</th>\n",
       "      <td>1</td>\n",
       "      <td>North</td>\n",
       "      <td>Sales Support</td>\n",
       "      <td>11:00 AM</td>\n",
       "      <td>Incoming</td>\n",
       "      <td>A</td>\n",
       "      <td>Cam</td>\n",
       "      <td>NO</td>\n",
       "      <td>0</td>\n",
       "      <td>0</td>\n",
       "      <td>11</td>\n",
       "      <td>1</td>\n",
       "      <td>1.0</td>\n",
       "      <td>3</td>\n",
       "      <td>1</td>\n",
       "    </tr>\n",
       "    <tr>\n",
       "      <th>2</th>\n",
       "      <td>2</td>\n",
       "      <td>North</td>\n",
       "      <td>Sales Support</td>\n",
       "      <td>11:00 AM</td>\n",
       "      <td>Incoming</td>\n",
       "      <td>B</td>\n",
       "      <td>Todd</td>\n",
       "      <td>NO</td>\n",
       "      <td>0</td>\n",
       "      <td>0</td>\n",
       "      <td>9</td>\n",
       "      <td>3</td>\n",
       "      <td>1.0</td>\n",
       "      <td>3</td>\n",
       "      <td>1</td>\n",
       "    </tr>\n",
       "    <tr>\n",
       "      <th>3</th>\n",
       "      <td>3</td>\n",
       "      <td>North</td>\n",
       "      <td>Sales Support</td>\n",
       "      <td>4:00 PM</td>\n",
       "      <td>Incoming</td>\n",
       "      <td>B</td>\n",
       "      <td>Brent</td>\n",
       "      <td>NO</td>\n",
       "      <td>0</td>\n",
       "      <td>0</td>\n",
       "      <td>11</td>\n",
       "      <td>2</td>\n",
       "      <td>1.0</td>\n",
       "      <td>4</td>\n",
       "      <td>1</td>\n",
       "    </tr>\n",
       "    <tr>\n",
       "      <th>4</th>\n",
       "      <td>4</td>\n",
       "      <td>North</td>\n",
       "      <td>Product Support</td>\n",
       "      <td>12:00 PM</td>\n",
       "      <td>Incoming</td>\n",
       "      <td>B</td>\n",
       "      <td>Brent</td>\n",
       "      <td>NO</td>\n",
       "      <td>0</td>\n",
       "      <td>0</td>\n",
       "      <td>8</td>\n",
       "      <td>2</td>\n",
       "      <td>1.0</td>\n",
       "      <td>4</td>\n",
       "      <td>1</td>\n",
       "    </tr>\n",
       "    <tr>\n",
       "      <th>...</th>\n",
       "      <td>...</td>\n",
       "      <td>...</td>\n",
       "      <td>...</td>\n",
       "      <td>...</td>\n",
       "      <td>...</td>\n",
       "      <td>...</td>\n",
       "      <td>...</td>\n",
       "      <td>...</td>\n",
       "      <td>...</td>\n",
       "      <td>...</td>\n",
       "      <td>...</td>\n",
       "      <td>...</td>\n",
       "      <td>...</td>\n",
       "      <td>...</td>\n",
       "      <td>...</td>\n",
       "    </tr>\n",
       "    <tr>\n",
       "      <th>309</th>\n",
       "      <td>309</td>\n",
       "      <td>South</td>\n",
       "      <td>Product Support</td>\n",
       "      <td>5:00 PM</td>\n",
       "      <td>Outgoing</td>\n",
       "      <td>D</td>\n",
       "      <td>Helga</td>\n",
       "      <td>NO</td>\n",
       "      <td>0</td>\n",
       "      <td>0</td>\n",
       "      <td>10</td>\n",
       "      <td>3</td>\n",
       "      <td>NaN</td>\n",
       "      <td>4</td>\n",
       "      <td>1</td>\n",
       "    </tr>\n",
       "    <tr>\n",
       "      <th>310</th>\n",
       "      <td>310</td>\n",
       "      <td>South</td>\n",
       "      <td>Product Support</td>\n",
       "      <td>5:00 PM</td>\n",
       "      <td>Outgoing</td>\n",
       "      <td>C</td>\n",
       "      <td>Susan</td>\n",
       "      <td>NO</td>\n",
       "      <td>0</td>\n",
       "      <td>0</td>\n",
       "      <td>12</td>\n",
       "      <td>3</td>\n",
       "      <td>NaN</td>\n",
       "      <td>4</td>\n",
       "      <td>1</td>\n",
       "    </tr>\n",
       "    <tr>\n",
       "      <th>311</th>\n",
       "      <td>311</td>\n",
       "      <td>South</td>\n",
       "      <td>Product Support</td>\n",
       "      <td>5:00 PM</td>\n",
       "      <td>Outgoing</td>\n",
       "      <td>C</td>\n",
       "      <td>Sandy</td>\n",
       "      <td>NO</td>\n",
       "      <td>0</td>\n",
       "      <td>0</td>\n",
       "      <td>9</td>\n",
       "      <td>3</td>\n",
       "      <td>NaN</td>\n",
       "      <td>4</td>\n",
       "      <td>1</td>\n",
       "    </tr>\n",
       "    <tr>\n",
       "      <th>312</th>\n",
       "      <td>312</td>\n",
       "      <td>South</td>\n",
       "      <td>Product Support</td>\n",
       "      <td>5:00 PM</td>\n",
       "      <td>Outgoing</td>\n",
       "      <td>C</td>\n",
       "      <td>Eric</td>\n",
       "      <td>NO</td>\n",
       "      <td>0</td>\n",
       "      <td>0</td>\n",
       "      <td>10</td>\n",
       "      <td>1</td>\n",
       "      <td>NaN</td>\n",
       "      <td>2</td>\n",
       "      <td>1</td>\n",
       "    </tr>\n",
       "    <tr>\n",
       "      <th>313</th>\n",
       "      <td>313</td>\n",
       "      <td>South</td>\n",
       "      <td>Product Support</td>\n",
       "      <td>5:00 PM</td>\n",
       "      <td>Outgoing</td>\n",
       "      <td>D</td>\n",
       "      <td>George</td>\n",
       "      <td>NO</td>\n",
       "      <td>0</td>\n",
       "      <td>0</td>\n",
       "      <td>10</td>\n",
       "      <td>2</td>\n",
       "      <td>NaN</td>\n",
       "      <td>3</td>\n",
       "      <td>1</td>\n",
       "    </tr>\n",
       "  </tbody>\n",
       "</table>\n",
       "<p>559 rows × 15 columns</p>\n",
       "</div>"
      ],
      "text/plain": [
       "     Unnamed: 0 Branch     Call Purpose Time Block Incoming or Outgoing Queue  \\\n",
       "0             0  North        Complaint    9:00 AM             Incoming     B   \n",
       "1             1  North    Sales Support   11:00 AM             Incoming     A   \n",
       "2             2  North    Sales Support   11:00 AM             Incoming     B   \n",
       "3             3  North    Sales Support    4:00 PM             Incoming     B   \n",
       "4             4  North  Product Support   12:00 PM             Incoming     B   \n",
       "..          ...    ...              ...        ...                  ...   ...   \n",
       "309         309  South  Product Support    5:00 PM             Outgoing     D   \n",
       "310         310  South  Product Support    5:00 PM             Outgoing     C   \n",
       "311         311  South  Product Support    5:00 PM             Outgoing     C   \n",
       "312         312  South  Product Support    5:00 PM             Outgoing     C   \n",
       "313         313  South  Product Support    5:00 PM             Outgoing     D   \n",
       "\n",
       "     Rep ID Sale  Lost Call  Abandoned  Busy Minutes  Not Ready Minutes  \\\n",
       "0     Brent   NO          0          1             9                  2   \n",
       "1       Cam   NO          0          0            11                  1   \n",
       "2      Todd   NO          0          0             9                  3   \n",
       "3     Brent   NO          0          0            11                  2   \n",
       "4     Brent   NO          0          0             8                  2   \n",
       "..      ...  ...        ...        ...           ...                ...   \n",
       "309   Helga   NO          0          0            10                  3   \n",
       "310   Susan   NO          0          0            12                  3   \n",
       "311   Sandy   NO          0          0             9                  3   \n",
       "312    Eric   NO          0          0            10                  1   \n",
       "313  George   NO          0          0            10                  2   \n",
       "\n",
       "     Incoming Wait Time  During Call Wait Time  Calls  \n",
       "0                   1.0                      4      1  \n",
       "1                   1.0                      3      1  \n",
       "2                   1.0                      3      1  \n",
       "3                   1.0                      4      1  \n",
       "4                   1.0                      4      1  \n",
       "..                  ...                    ...    ...  \n",
       "309                 NaN                      4      1  \n",
       "310                 NaN                      4      1  \n",
       "311                 NaN                      4      1  \n",
       "312                 NaN                      2      1  \n",
       "313                 NaN                      3      1  \n",
       "\n",
       "[559 rows x 15 columns]"
      ]
     },
     "execution_count": 178,
     "metadata": {},
     "output_type": "execute_result"
    }
   ],
   "source": [
    "# Create dataframe for the entire company named df\n",
    "\n",
    "df = pd.concat([north_df, south_df])\n",
    "df"
   ]
  },
  {
   "cell_type": "markdown",
   "id": "7e87dfd1",
   "metadata": {},
   "source": [
    "#### Manipulation Question 1:  Group by Rep ID and sum the resulting structure. Sort by calls to determine which rep in each branch has the highest number of calls."
   ]
  },
  {
   "cell_type": "code",
   "execution_count": 179,
   "id": "3953f09a",
   "metadata": {},
   "outputs": [
    {
     "name": "stdout",
     "output_type": "stream",
     "text": [
      "Branch  Rep ID\n",
      "North   Brent     37\n",
      "South   Eric      35\n",
      "        Randy     33\n",
      "        Sandy     32\n",
      "        Helga     31\n",
      "Name: Calls, dtype: int64\n"
     ]
    }
   ],
   "source": [
    "# # Manipulation Question solution below:\n",
    "# rep_id_calls = df.groupby([\"Rep ID\"]).sum() #Group by rep id, get sum. \n",
    "# rep_id_calls.sort_values(by=\"Calls\", axis=0, ascending=False) #sort by calls, decending, to get highest calls by rep id. \n",
    "\n",
    "rep_id_calls = df.groupby([\"Branch\", \"Rep ID\"])[\"Calls\"].sum() #Group by rep id and branch, get sum of calls.\n",
    "rep_id_calls = rep_id_calls.sort_values(ascending=False) #sort calls in decending order to show top results\n",
    "\n",
    "# rep_id_calls = rep_id_calls.reset_index() #convert rep_id_calls back into a dataframe\n",
    "## before using this function, results were being indexed by branch and rep ID, now its a new dataframe with new index\n",
    "\n",
    "print(rep_id_calls.head())\n"
   ]
  },
  {
   "cell_type": "markdown",
   "id": "7c29838c-1402-4e4b-94c9-050515d8dd18",
   "metadata": {},
   "source": [
    "##### Record your answer below\n",
    "Rep with the hightest number of calls and their total calls:\n",
    "- North Branch = Brent with 37 calls\n",
    "- South Branch = Eric with 35 calls"
   ]
  },
  {
   "cell_type": "markdown",
   "id": "809293b9",
   "metadata": {},
   "source": [
    "#### Manipulation Question 2:  The average call abandonment rate is a KPI when it comes to determining call center efficiency. As you may recall, abandoned calls are calls where the customer hangs up due to long call times. What is the average call abandonment rate for each branch and the whole company? Do any of these fall out of the optimal range of 2-5%?"
   ]
  },
  {
   "cell_type": "code",
   "execution_count": 152,
   "id": "3dff7534",
   "metadata": {},
   "outputs": [
    {
     "name": "stdout",
     "output_type": "stream",
     "text": [
      "Branch\n",
      "North    2.86\n",
      "South    1.27\n",
      "dtype: float64\n"
     ]
    }
   ],
   "source": [
    "# Manipulation Question 2 solution below:\n",
    "\n",
    "#percentage of abandonded calls per branch\n",
    "#abandoned calls: 1 for yes, 0 for no\n",
    "\n",
    "\n",
    "abandoned_total = df[df['Abandoned'] == 1].groupby(\"Branch\").size() #counts number of rows where abandoned == 1\n",
    "\n",
    "total_calls = df.groupby(\"Branch\").size() #counts number of all calls per branch\n",
    "\n",
    "branch_efficiency_level = (abandoned_total / total_calls) * 100 #turns results into percentage\n",
    "branch_efficiency_level = round(branch_efficiency_level, 2) #rount to nearest hundreth\n",
    "print(branch_efficiency_level)\n"
   ]
  },
  {
   "cell_type": "code",
   "execution_count": 153,
   "id": "f43a0b9a-ea93-4b81-8a84-f11c1e31cc8c",
   "metadata": {},
   "outputs": [
    {
     "name": "stdout",
     "output_type": "stream",
     "text": [
      "1.97\n"
     ]
    }
   ],
   "source": [
    "#percentage of abandonded calls company wide\n",
    "\n",
    "company_abandoned_total = df[df['Abandoned'] == 1].shape[0] #filters the rows where the value in the 'Abandoned' column = 1, then .shape[0] counts the number of rows.\n",
    "\n",
    "company_total_calls = df[\"Calls\"].sum() #sum of calls, across both branches.\n",
    "\n",
    "efficiency_level = (company_abandoned_total / company_total_calls) * 100 \n",
    "efficiency_level = round(efficiency_level, 2) #round to nearest hundreth\n",
    "\n",
    "print(efficiency_level)\n",
    "\n",
    "\n"
   ]
  },
  {
   "cell_type": "markdown",
   "id": "c284596f-218f-4291-81b6-718ea5671feb",
   "metadata": {},
   "source": [
    "##### Record your answer below:\n",
    "Average Call Abandonment Rates (round to the nearest hundredth):\n",
    "- North Branch = 2.86%\n",
    "- South Branch = 1.27%\n",
    "- Company Wide = 1.97%\n",
    "- Do any of these fall out of the optimal range of 2-5%? Yes, South Branch and Company Wide fall out of opitmal range"
   ]
  },
  {
   "cell_type": "markdown",
   "id": "598bb1bf",
   "metadata": {},
   "source": [
    "#### Manipulation Question 3:  Service level is another KPI when it comes to measuring call center efficiency. Service level is the percentage of calls answered within a specific number of seconds. In the case of your employer, their ideal time frame is 2 seconds. What is the percentage of calls answered within 2 seconds for each branch and the entire company?"
   ]
  },
  {
   "cell_type": "code",
   "execution_count": 154,
   "id": "2fc8f669",
   "metadata": {},
   "outputs": [
    {
     "data": {
      "text/plain": [
       "Branch\n",
       "North    40.24\n",
       "South    38.10\n",
       "dtype: float64"
      ]
     },
     "execution_count": 154,
     "metadata": {},
     "output_type": "execute_result"
    }
   ],
   "source": [
    "# # Manipulation Question 3 solution below:\n",
    "#percent of calls answered within 2 seconds per branch\n",
    "incoming_calls = df[df['Incoming or Outgoing'] == \"Incoming\" ] #incoming wait time only applys to incoming calls, filter out outgoing calls\n",
    "\n",
    "within_2_seconds = incoming_calls[incoming_calls['Incoming Wait Time'] <= 2.0].groupby(\"Branch\").size() # count of calls answered within 2 seconds (<= 2) for each branch (using groupby)\n",
    "total_incoming_calls = incoming_calls.groupby(\"Branch\").size() # count of incoming calls for each branch, without <2 filtering\n",
    "\n",
    "service_level = (within_2_seconds / total_incoming_calls) * 100 #service level kpi formula is within_2_seconds divided by total, multiply by 100 for percentage\n",
    "\n",
    "service_level= round(service_level, 2) # Round to nearest hundreth\n",
    "service_level"
   ]
  },
  {
   "cell_type": "code",
   "execution_count": 155,
   "id": "14b38431-4150-49a9-9f69-7fa25d5b9f80",
   "metadata": {},
   "outputs": [
    {
     "data": {
      "text/plain": [
       "Branch\n",
       "North    33\n",
       "South    48\n",
       "Name: Incoming Wait Time, dtype: int64"
      ]
     },
     "execution_count": 155,
     "metadata": {},
     "output_type": "execute_result"
    }
   ],
   "source": [
    "#count of calls answered within 2 seconds per branch\n",
    "count_within_2_seconds = incoming_calls[incoming_calls['Incoming Wait Time'] <= 2.0].groupby(\"Branch\").count()\n",
    "\n",
    "count_within_2_seconds[\"Incoming Wait Time\"]"
   ]
  },
  {
   "cell_type": "code",
   "execution_count": 156,
   "id": "6c248ebb-f28a-4d3e-9619-6e136c662980",
   "metadata": {},
   "outputs": [
    {
     "data": {
      "text/plain": [
       "np.float64(38.94)"
      ]
     },
     "execution_count": 156,
     "metadata": {},
     "output_type": "execute_result"
    }
   ],
   "source": [
    "#company wide percentage\n",
    "\n",
    "# total number of calls answered within 2 seconds (<= 2)\n",
    "#.size() returns number of rows, thus counts number of calls for each branch. each row is 1 call.\n",
    "#sums counts of total calls (both branches) made within 2 seconds\n",
    "company_within_2_seconds = incoming_calls[incoming_calls['Incoming Wait Time'] <= 2.0].groupby(\"Branch\").size().sum()\n",
    "company_total_incoming_calls = incoming_calls.groupby(\"Branch\").size().sum() # Total incoming calls summed for all branches, removing <2 seconds filtering.\n",
    "\n",
    "# Service level KPI formula: results from within_2_seconds divided by total, multiplied by 100 for percentage\n",
    "company_service_level_percentage = (company_within_2_seconds / company_total_incoming_calls) * 100\n",
    "\n",
    "company_service_level_percentage = round(company_service_level_percentage,2)\n",
    "company_service_level_percentage\n"
   ]
  },
  {
   "cell_type": "code",
   "execution_count": 157,
   "id": "f90167fd-787b-404c-a1c4-d6673674edae",
   "metadata": {},
   "outputs": [
    {
     "data": {
      "text/plain": [
       "np.int64(81)"
      ]
     },
     "execution_count": 157,
     "metadata": {},
     "output_type": "execute_result"
    }
   ],
   "source": [
    "#company wide count\n",
    "\n",
    "company_within_2_seconds = incoming_calls[incoming_calls['Incoming Wait Time'] <= 2.0].count()\n",
    "\n",
    "\n",
    "company_within_2_seconds[\"Incoming Wait Time\"]"
   ]
  },
  {
   "cell_type": "markdown",
   "id": "e3a4c9d9-4e11-4e1f-859a-d2c919f7d9ce",
   "metadata": {},
   "source": [
    "##### Record your answer below:\n",
    "Percentage of calls answered within 2 seconds, include # of calls:\n",
    "- North Branch = 40.24% with 33 calls\n",
    "- South Branch = 38.10% with 48 calls\n",
    "- Company Wide = 38.94% with 81 calls\n"
   ]
  },
  {
   "cell_type": "markdown",
   "id": "7e19e705",
   "metadata": {},
   "source": [
    "#### Manipulation Question 4: For each branch and the entire company, what is the average speed of answer?"
   ]
  },
  {
   "cell_type": "code",
   "execution_count": 158,
   "id": "72a653ed",
   "metadata": {},
   "outputs": [
    {
     "data": {
      "text/plain": [
       "Branch\n",
       "North    3.05\n",
       "South    3.00\n",
       "dtype: float64"
      ]
     },
     "execution_count": 158,
     "metadata": {},
     "output_type": "execute_result"
    }
   ],
   "source": [
    "#sum of all incoming wait times, divide by count\n",
    "#filter only incoming calls (incoming_calls)\n",
    "#grouby branch\n",
    "\n",
    "#total_incoming_calls variable previously definded\n",
    "#total_incoming_calls = incoming_calls.groupby(\"Branch\").size() # count of incoming calls for each branch, without <2 filtering\n",
    "\n",
    "\n",
    "sum_call_speed = incoming_calls.groupby(\"Branch\")[\"Incoming Wait Time\"].sum() #sum of all incoming wait times groubed by branch\n",
    "mean_call_speed = sum_call_speed / total_incoming_calls #sum of incoming wait times divided by total incoming calls\n",
    "\n",
    "#round to nearest hundreth\n",
    "mean_call_speed = round(mean_call_speed, 2)\n",
    "mean_call_speed\n",
    "\n"
   ]
  },
  {
   "cell_type": "code",
   "execution_count": 159,
   "id": "42c503d6-8f66-4d8d-8c8a-a7cc42105dfe",
   "metadata": {},
   "outputs": [
    {
     "data": {
      "text/plain": [
       "np.float64(3.02)"
      ]
     },
     "execution_count": 159,
     "metadata": {},
     "output_type": "execute_result"
    }
   ],
   "source": [
    "#same as above, without branch groupby. \n",
    "\n",
    "\n",
    "sum_call_speed_company = incoming_calls[\"Incoming Wait Time\"].sum()\n",
    "mean_call_speed_company = sum_call_speed_company / company_total_incoming_calls\n",
    "\n",
    "#round to nearest hundreth\n",
    "mean_call_speed_company = round(mean_call_speed_company, 2)\n",
    "mean_call_speed_company\n",
    "\n",
    "\n"
   ]
  },
  {
   "cell_type": "markdown",
   "id": "fb04c65b-442b-48e1-b22c-b2af8b835ffd",
   "metadata": {},
   "source": [
    "##### Record your answer by below:\n",
    "Average speed of answer (rounded to nearest hundredth):\n",
    "- North Branch in seconds = 3.05 seconds\n",
    "- South Branch in seconds = 3.00 seconds\n",
    "- Company Wide in seconds = 3.02 seconds"
   ]
  },
  {
   "cell_type": "markdown",
   "id": "d5f50a40",
   "metadata": {},
   "source": [
    "## Task 4: Visualization\n",
    "\n",
    "Create a visualization for each of the following questions. Some of the code to handle aggregating and storing data may be written for you. For each visualization, you choose the chart style that you feel suits the situation best. Make note of the chart style you chose and why. \n",
    "\n",
    "*NOTE Some questions you may decide to use more than one chart and or chart style."
   ]
  },
  {
   "cell_type": "markdown",
   "id": "66ccf83c",
   "metadata": {},
   "source": [
    "#### Visualization 1:  What is the average abandonment rate per queue?"
   ]
  },
  {
   "cell_type": "code",
   "execution_count": 180,
   "id": "c971d779",
   "metadata": {},
   "outputs": [
    {
     "name": "stderr",
     "output_type": "stream",
     "text": [
      "/var/folders/8j/lkv619ks11s7t9r0db59kfsm0000gn/T/ipykernel_63038/1765971937.py:10: FutureWarning: Series.__getitem__ treating keys as positions is deprecated. In a future version, integer keys will always be treated as labels (consistent with DataFrame behavior). To access a value by position, use `ser.iloc[pos]`\n",
      "  abandonment_rates[queues[i]] = queue_dict[\"Abandoned\"][i] / queue_dict[\"Calls\"][i] *100\n"
     ]
    },
    {
     "data": {
      "image/png": "[encoded data removed]",
      "text/plain": [
       "<Figure size 640x480 with 1 Axes>"
      ]
     },
     "metadata": {},
     "output_type": "display_data"
    }
   ],
   "source": [
    "# Create visualization 1 here\n",
    "# Import any additional libraries needed with alias\n",
    "\n",
    "# The dictionary abandonment_rates has the data you need.\n",
    "\n",
    "abandonment_rates = {} #initilize variable as dict\n",
    "queues = [\"A\", \"B\", \"C\", \"D\"]\n",
    "queue_dict = df.groupby(\"Queue\").agg(\"sum\")\n",
    "for i in range(4):\n",
    "     abandonment_rates[queues[i]] = queue_dict[\"Abandoned\"][i] / queue_dict[\"Calls\"][i] *100 \n",
    "\n",
    "labels = list(abandonment_rates.keys()) #keys from dict -- x axis\n",
    "values = list(abandonment_rates.values()) #values from dict -- y axis\n",
    "\n",
    "plt.bar(labels, values, color =\"maroon\")\n",
    "\n",
    "plt.xlabel('Queues')\n",
    "plt.ylabel('Rate of Abandoned Calls(%)')\n",
    "plt.title('Average Abandonment Rate per Call Queue')\n",
    "\n",
    "plt.show()\n"
   ]
  },
  {
   "cell_type": "code",
   "execution_count": 181,
   "id": "a9eb3e98-26d0-4f53-a31c-6cce129d7e0f",
   "metadata": {},
   "outputs": [
    {
     "name": "stdout",
     "output_type": "stream",
     "text": [
      "{'A': np.float64(4.166666666666666), 'B': np.float64(2.013422818791946), 'C': np.float64(0.7246376811594203), 'D': np.float64(1.7045454545454544)}\n"
     ]
    }
   ],
   "source": [
    "#check abandonment rates match graph\n",
    "print(abandonment_rates)"
   ]
  },
  {
   "cell_type": "markdown",
   "id": "00a821e7-b296-4950-8889-dacf36ef37fb",
   "metadata": {},
   "source": [
    "##### Record your answer below:\n",
    "\n",
    "I chose a bar graph. It lays out the abandonment rate of each queue in a way that lets us compare them to on another."
   ]
  },
  {
   "cell_type": "markdown",
   "id": "4a9fc77f",
   "metadata": {},
   "source": [
    "#### Visualization 2: What is the service level percentage and average speed of answer for each rep in the North Branch?"
   ]
  },
  {
   "cell_type": "code",
   "execution_count": 182,
   "id": "61f65a7f",
   "metadata": {},
   "outputs": [
    {
     "data": {
      "image/png": "[encoded data removed]",
      "text/plain": [
       "<Figure size 640x480 with 2 Axes>"
      ]
     },
     "metadata": {},
     "output_type": "display_data"
    }
   ],
   "source": [
    "# Create visualization 2 here\n",
    "\n",
    "# north_plt contains the data you need for the average speed of answer of each rep\n",
    "\n",
    "north_plt = north_df.groupby(\"Rep ID\")[\"Incoming Wait Time\"].mean().to_frame().reset_index()\n",
    "\n",
    "# Finding each Rep's Personal Service Level Percentage.  Basically, Calls within 2 secs / total calls\n",
    "\n",
    "# Table 1: Total Incoming calls less than 2 seconds grouped by Rep\n",
    "quick_calls = north_df[north_df[\"Incoming Wait Time\"] <= 2.0]\n",
    "quick_reps = quick_calls[[\"Rep ID\", \"Calls\"]]\n",
    "quick_stats = quick_reps.groupby([\"Rep ID\"]).sum()  # Final Table\n",
    "\n",
    "# Table 2: Total Incoming Calls Only grouped by Rep\n",
    "total_calls_in = north_df[north_df[\"Incoming or Outgoing\"] == \"Incoming\"]\n",
    "rep_calls = total_calls_in[[\"Rep ID\", \"Calls\"]]     \n",
    "total_stats = rep_calls.groupby([\"Rep ID\"]).sum() # Final Table  \n",
    "# get total incoming calls for each representative\n",
    "\n",
    " # Table 3: Service Level Percentage created via merge\n",
    "service_level = pd.merge(quick_stats, total_stats, on=\"Rep ID\")\n",
    "# calls_x = Total Incoming calls less than 2 seconds grouped by Rep - Only calls less than 2s\n",
    "# calls_y = Total Incoming Calls Only grouped by Rep - All incoming calls\n",
    "# service_level = both tables combined, matched on data with same rep ID. \n",
    "\n",
    "# Create Percentage Column in Table 3\n",
    "\n",
    "service_level[\"Service Level %\"] = service_level[\"Calls_x\"]/service_level[\"Calls_y\"] * 100\n",
    "# #Your Code Here:\n",
    "\n",
    "fig, ax1 = plt.subplots() #creates a subplot to use two different graphs, avg speed of anseswer and service level %\n",
    "muted_blue = \"#6699CC\" #sets variable for bar graph's color, using hex code for a muted blue\n",
    "\n",
    "\n",
    "ax1.bar(north_plt[\"Rep ID\"], north_plt[\"Incoming Wait Time\"], color=muted_blue, label= \"SOA\") #first axis creates bar chart\n",
    "#x axis = rep IDs, y axis = avg speed of answers in seconds. Color set to the muted blue hex code. SOA label given for the chart legend\n",
    "ax1.set_xlabel(\"Branch Representatives\")\n",
    "ax1.set_ylabel(\"Speed of Answer (seconds)\")\n",
    "ax1.set_title(\"Average Speed of Answer and Service Level Percentage of the North Branch\")\n",
    "\n",
    "ax2 = ax1.twinx() #second axis is line chart, creates a second y axis to display service level percentage\n",
    "ax2.plot(north_plt[\"Rep ID\"], service_level[\"Service Level %\"], color='green', marker='o', label= \"Service Level\")\n",
    "ax2.set_ylabel(\"Service Level (%)\")\n",
    "#x axis is shared from bar chart (rep IDs), y axis = service level %\n",
    "#marker ='o' adds circles as markers to each data point on the line\n",
    "\n",
    "fig.legend(loc=\"upper left\", bbox_to_anchor=(1, 0.5)) #creates legend for graph, placing it outside of plot to not overlap. \n",
    "plt.show()\n",
    "\n"
   ]
  },
  {
   "cell_type": "code",
   "execution_count": 163,
   "id": "3ffc22df-b73a-47b3-9014-4cddab4379ab",
   "metadata": {},
   "outputs": [
    {
     "name": "stdout",
     "output_type": "stream",
     "text": [
      "   Rep ID  Incoming Wait Time\n",
      "0  Amanda            2.400000\n",
      "1    Andy            3.600000\n",
      "2   Brent            2.125000\n",
      "3     Cam            2.909091\n",
      "4    Duke            2.785714\n",
      "5     Joe            3.600000\n",
      "6   Lilly            3.083333\n",
      "7    Todd            3.500000\n",
      "8  Xander            3.333333\n"
     ]
    }
   ],
   "source": [
    "#Checking Speed of Answers matches graph\n",
    "print(north_plt)"
   ]
  },
  {
   "cell_type": "code",
   "execution_count": 164,
   "id": "a8d2d737-f532-403e-adc7-36ac4cb5b8ea",
   "metadata": {},
   "outputs": [
    {
     "name": "stdout",
     "output_type": "stream",
     "text": [
      "        Calls_x  Calls_y  Service Level %\n",
      "Rep ID                                   \n",
      "Amanda        3        5        60.000000\n",
      "Andy          3       10        30.000000\n",
      "Brent         6        8        75.000000\n",
      "Cam           5       11        45.454545\n",
      "Duke          6       14        42.857143\n",
      "Joe           2       10        20.000000\n",
      "Lilly         4       12        33.333333\n",
      "Todd          2        6        33.333333\n",
      "Xander        2        6        33.333333\n"
     ]
    }
   ],
   "source": [
    "#Checking Service Level % matches graph\n",
    "print(service_level)"
   ]
  },
  {
   "cell_type": "markdown",
   "id": "4d4cad4d-f9fb-4927-8a45-4b5cd17edd3a",
   "metadata": {},
   "source": [
    "##### Record your answer below:\n",
    "\n",
    "> Chart style you chose and why: I chose a bar chart to show the Speed of Answers because it is easy to view and compare each representatives averages. For the Service level I chose a line graph because it desplays nicely on top of the bar graph. Since our speed of answers data is measured in seconds, and our service level is measured in percentages, I thought using two different types of graphs would eliminate any confusing. Also, the line graph has markers that show an exact service level percentage, while the line that connects each marker can show us the relationshop and differences between each representative."
   ]
  },
  {
   "cell_type": "markdown",
   "id": "f965e41a",
   "metadata": {},
   "source": [
    "#### Visualization 3: For each type of call purpose, how many calls are outgoing vs. incoming?"
   ]
  },
  {
   "cell_type": "code",
   "execution_count": 184,
   "id": "44096730",
   "metadata": {},
   "outputs": [
    {
     "data": {
      "image/png": "[encoded data removed]",
      "text/plain": [
       "<Figure size 640x480 with 1 Axes>"
      ]
     },
     "metadata": {},
     "output_type": "display_data"
    }
   ],
   "source": [
    "# Create visualization 3 here:\n",
    "# The three dictionaries, complaints, sales_support, and product_support, have the information you need\n",
    "\n",
    "\n",
    "purpose_group = df.groupby(\"Call Purpose\") #sorting dataframe by call purpose\n",
    "call_purpose = [\"Complaint\", \"Product Support\", \"Sales Support\"] #lists out each call purpose\n",
    "purpose_counts = purpose_group[\"Incoming or Outgoing\"].value_counts() #count of each call purpose\n",
    "\n",
    "\n",
    "complaints = purpose_counts[\"Complaint\"].to_dict() \n",
    "sales_support = purpose_counts[\"Sales Support\"].to_dict()\n",
    "product_support = purpose_counts[\"Product Support\"].to_dict()\n",
    "\n",
    "\n",
    "#Your Code Here:\n",
    "\n",
    "complaints_incoming = complaints.get(\"Incoming\", 0) #extracts dictionary value which is incoming calls from complaints, defaults zero if there is none\n",
    "complaints_outgoing = complaints.get(\"Outgoing\", 0)#extracts outgoing calls from complaints dictionary, gives zero if there are none. Complaints have zero outgoing. \n",
    "\n",
    "sales_support_incoming = sales_support.get(\"Incoming\", 0) #same as above, but for sales support call puprose incoming / outgoing\n",
    "sales_support_outgoing = sales_support.get(\"Outgoing\", 0)\n",
    "\n",
    "product_support_incoming = product_support.get(\"Incoming\", 0) #one more time for product support calls\n",
    "product_support_outgoing = product_support.get(\"Outgoing\", 0)\n",
    "\n",
    "incoming_calls = [complaints_incoming, product_support_incoming, sales_support_incoming] #define incoming call so we can make graph show count of incoming calls, per category\n",
    "outgoing_calls = [complaints_outgoing, product_support_outgoing, sales_support_outgoing] #count of outgoing calls per category\n",
    "\n",
    "#creating plot\n",
    "plt.plot(call_purpose, incoming_calls, label='Incoming Calls', marker='o') #each call purpose is x axis, count of incoming calls is y, label is for our legend, then give graph markers\n",
    "plt.plot(call_purpose, outgoing_calls, label='Outgoing Calls', marker='o') #for our second line, this time for outgoing calls.\n",
    "\n",
    "#labeling plot\n",
    "plt.xlabel(\"Call Purpose\")\n",
    "plt.ylabel(\"Number of Calls\")\n",
    "plt.title(\"Incoming and Outgoing Calls by Purpose\")\n",
    "plt.legend()\n",
    "\n",
    "plt.show()\n",
    "\n"
   ]
  },
  {
   "cell_type": "code",
   "execution_count": 171,
   "id": "1baaa89f-f513-446b-b680-e069cc0acef8",
   "metadata": {},
   "outputs": [
    {
     "name": "stdout",
     "output_type": "stream",
     "text": [
      "[51, 82, 75]\n",
      "[0, 228, 123]\n"
     ]
    }
   ],
   "source": [
    "print(incoming_calls)\n",
    "print(outgoing_calls)"
   ]
  },
  {
   "cell_type": "markdown",
   "id": "9198bbe4-44ef-4e21-bd40-6ace8e9f7694",
   "metadata": {},
   "source": [
    "##### Record your answer below:\n",
    "\n",
    "> Chart style you chose and why: I chose a line graph for this Visualization because it was a simple, clear and unclutter way of viewing our call incoming and outgoing call counts per call purpose. The use of markers show the exact number of calls per category. The use of a line that connects each marker displays and emphasizes the relationship and trends between each call purpose and their call counts. This works especially well for showing each call purpose's differences in the number of incoming and outgoing calls."
   ]
  },
  {
   "cell_type": "code",
   "execution_count": 172,
   "id": "57468a09-7f84-4c00-9a11-55fe151ef517",
   "metadata": {},
   "outputs": [
    {
     "name": "stdout",
     "output_type": "stream",
     "text": [
      "{'Incoming': 51}\n",
      "{'Outgoing': 123, 'Incoming': 75}\n",
      "{'Outgoing': 228, 'Incoming': 82}\n"
     ]
    }
   ],
   "source": [
    "#check that counts match graph\n",
    "\n",
    "print(complaints)\n",
    "print(sales_support)\n",
    "print(product_support)"
   ]
  },
  {
   "cell_type": "markdown",
   "id": "ea7ed568",
   "metadata": {},
   "source": [
    "## Task 5: Summarize Your Work\n",
    "\n",
    "With what you know now about the two call centers and the entire company, answer the following questions. Note that while this is subjective, you should include relevant data to back up your opinion.\n"
   ]
  },
  {
   "cell_type": "markdown",
   "id": "d2fc3d13",
   "metadata": {},
   "source": [
    "#### Summary Question 1:  Using KPIs such as average abandonment rate, service level and average speed of answer, in your opinion, which one of the two branches is operating more efficiently? Why?\n",
    "\n",
    "##### Record your answer below:\n",
    "> The south branch is operating more efficiently. Their average abandonment rate is lower than the north branch at 1.27%, compared to the north branch at 2.86%. The lower percentage means a lower count of dropped calls. The south branch also has a faster average speed of answering calls at an average of 3 seconds, compared to the north branch's average speed of 3.05 seconds. The north branch has a higher percentage of calls answered within 2 seconds, north branch with 40.24%, south branch with 38.10%. However, the south branch answered more calls overall, than the north branch did."
   ]
  },
  {
   "cell_type": "markdown",
   "id": "489f28d6",
   "metadata": {},
   "source": [
    "#### Summary Question 2: Based on the number of reps in each branch and how quickly the reps are working, in your opinion, which branch would benefit from the extra help?\n",
    "\n",
    "##### Record your answer below:\n",
    "> The north branch has 9 representatives and the south branch has 11. According to all our data, the north branch is not running as efficently as the south branch. The north branch would benefit from hiring more representatives.\n"
   ]
  },
  {
   "cell_type": "markdown",
   "id": "0b10a8c3",
   "metadata": {},
   "source": [
    "#### Summary Question 3: Now that you have explored the datasets, is there any data or information that you wish you had in this analysis?\n",
    "\n",
    "##### Record your answer below:\n",
    "> Additional data that would help in this data analysis would be customer satisfaction. A column in that simply answers a yes or no if the customer's issue was resolved. Another data point could be call duration time. How much time are the reps spending on calls, are they resolving issues in a timely mannor? \n"
   ]
  },
  {
   "cell_type": "markdown",
   "id": "ce16f43d",
   "metadata": {},
   "source": [
    "## Bonus Mission\n",
    "Create a visualization that answers this question: For each call purpose, how many calls (incoming and outgoing) take place in each time block?\n",
    "##### Record your answer below:\n",
    "\n",
    "> Chart style you chose and why: "
   ]
  },
  {
   "cell_type": "code",
   "execution_count": 167,
   "id": "71b04f32",
   "metadata": {},
   "outputs": [],
   "source": [
    "# Create your Bonus Mission visualization here!\n",
    "# call_times = df[[\"Time Block\", \"Call Purpose\", \"Incoming or Outgoing\", \"Calls\"]]\n",
    "\n",
    "# Use groupby to plot based on time blocks:\n",
    "\n",
    "# Use groupby and get_group to select which call purpose to plot:"
   ]
  }
 ],
 "metadata": {
  "kernelspec": {
   "display_name": "Python 3 (ipykernel)",
   "language": "python",
   "name": "python3"
  },
  "language_info": {
   "codemirror_mode": {
    "name": "ipython",
    "version": 3
   },
   "file_extension": ".py",
   "mimetype": "text/x-python",
   "name": "python",
   "nbconvert_exporter": "python",
   "pygments_lexer": "ipython3",
   "version": "3.12.5"
  }
 },
 "nbformat": 4,
 "nbformat_minor": 5
}
